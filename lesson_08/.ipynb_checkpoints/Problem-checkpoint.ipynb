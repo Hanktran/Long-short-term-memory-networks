{
 "cells": [
  {
   "cell_type": "code",
   "execution_count": 1,
   "metadata": {},
   "outputs": [],
   "source": [
    "from numpy import zeros\n",
    "from random import randint\n",
    "from random import random\n",
    "from matplotlib import pyplot"
   ]
  },
  {
   "cell_type": "code",
   "execution_count": 2,
   "metadata": {},
   "outputs": [],
   "source": [
    "# generate the next frame in the sequence\n",
    "def next_frame(last_step, last_frame, column):\n",
    "    # define the scope of the next step\n",
    "    lower = max(0, last_step-1)\n",
    "    upper = min(last_frame.shape[0]-1, last_step+1)\n",
    "    # choose the row index for the next step\n",
    "    step = randint(lower, upper)\n",
    "    # copy the prior frame\n",
    "    frame = last_frame.copy()\n",
    "    # add the new step\n",
    "    frame[step, column] = 1\n",
    "    return frame, step"
   ]
  },
  {
   "cell_type": "code",
   "execution_count": 3,
   "metadata": {},
   "outputs": [],
   "source": [
    "# generate a sequence of frames of a dot moving across an image\n",
    "def build_frames(size):\n",
    "    frames = list()\n",
    "    # create the first frame\n",
    "    frame = zeros((size, size))\n",
    "    step = randint(0, size-1)\n",
    "    # decide if we are heading left or right\n",
    "    right = 1 if random() < 0.5 else 0\n",
    "    col = 0 if right else size-1\n",
    "    frame[step, col] = 1\n",
    "    frames.append(frame)\n",
    "    # create all remaining frames\n",
    "    for i in range(1, size):\n",
    "        col = i if right else size-1-i\n",
    "        frame, step = next_frame(step, frame, col)\n",
    "        frames.append(frame)\n",
    "    return frames, right"
   ]
  },
  {
   "cell_type": "code",
   "execution_count": 4,
   "metadata": {},
   "outputs": [],
   "source": [
    "# generate sequence of frames\n",
    "size = 5\n",
    "frames, right = build_frames(size)"
   ]
  },
  {
   "cell_type": "code",
   "execution_count": 5,
   "metadata": {},
   "outputs": [
    {
     "data": {
      "image/png": "[encoded data removed]",
      "text/plain": [
       "<Figure size 432x288 with 5 Axes>"
      ]
     },
     "metadata": {
      "needs_background": "light"
     },
     "output_type": "display_data"
    }
   ],
   "source": [
    "# plot all frames\n",
    "pyplot.figure()\n",
    "for i in range(size):\n",
    "    # create a gray scale subplot for each frame\n",
    "    pyplot.subplot(1, size, i+1)\n",
    "    pyplot.imshow(frames[i], cmap='Greys')\n",
    "    # turn of the scale to make it clearer\n",
    "    ax = pyplot.gca()\n",
    "    ax.get_xaxis().set_visible(False)\n",
    "    ax.get_yaxis().set_visible(False)\n",
    "pyplot.show()"
   ]
  },
  {
   "cell_type": "code",
   "execution_count": null,
   "metadata": {},
   "outputs": [],
   "source": []
  }
 ],
 "metadata": {
  "kernelspec": {
   "display_name": "Python 3",
   "language": "python",
   "name": "python3"
  },
  "language_info": {
   "codemirror_mode": {
    "name": "ipython",
    "version": 3
   },
   "file_extension": ".py",
   "mimetype": "text/x-python",
   "name": "python",
   "nbconvert_exporter": "python",
   "pygments_lexer": "ipython3",
   "version": "3.7.3"
  }
 },
 "nbformat": 4,
 "nbformat_minor": 2
}
