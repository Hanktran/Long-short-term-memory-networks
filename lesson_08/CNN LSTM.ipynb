{
 "cells": [
  {
   "cell_type": "code",
   "execution_count": 1,
   "metadata": {},
   "outputs": [
    {
     "name": "stderr",
     "output_type": "stream",
     "text": [
      "Using TensorFlow backend.\n"
     ]
    }
   ],
   "source": [
    "from random import random\n",
    "from random import randint\n",
    "from numpy import array\n",
    "from numpy import zeros\n",
    "from keras.models import Sequential\n",
    "from keras.layers import Conv2D\n",
    "from keras.layers import MaxPooling2D\n",
    "from keras.layers import LSTM\n",
    "from keras.layers import Dense\n",
    "from keras.layers import Flatten\n",
    "from keras.layers import TimeDistributed"
   ]
  },
  {
   "cell_type": "code",
   "execution_count": 2,
   "metadata": {},
   "outputs": [],
   "source": [
    "# generate the next frame in the sequence\n",
    "def next_frame(last_step, last_frame, column):\n",
    "    # define the scope of the next step\n",
    "    lower = max(0, last_step-1)\n",
    "    upper = min(last_frame.shape[0]-1, last_step+1)\n",
    "    # choose the row index for the next step\n",
    "    step = randint(lower, upper)\n",
    "    # copy the prior frame\n",
    "    frame = last_frame.copy()\n",
    "    # add the new step\n",
    "    frame[step, column] = 1\n",
    "    return frame, step"
   ]
  },
  {
   "cell_type": "code",
   "execution_count": 3,
   "metadata": {},
   "outputs": [],
   "source": [
    "# generate a sequence of frames of a dot moving across an image\n",
    "def build_frames(size):\n",
    "    frames = list()\n",
    "    # create the first frame\n",
    "    frame = zeros((size, size))\n",
    "    step = randint(0, size-1)\n",
    "    # decide if we are heading left or right\n",
    "    right = 1 if random() < 0.5 else 0\n",
    "    col = 0 if right else size-1\n",
    "    frame[step, col] = 1\n",
    "    frames.append(frame)\n",
    "    # create all remaining frames\n",
    "    for i in range(1, size):\n",
    "        col = i if right else size-1-i\n",
    "        frame, step = next_frame(step, frame, col)\n",
    "        frames.append(frame)\n",
    "    return frames, right"
   ]
  },
  {
   "cell_type": "code",
   "execution_count": 4,
   "metadata": {},
   "outputs": [],
   "source": [
    "# generate multiple sequences of frames and reshape for network input\n",
    "def generate_examples(size, n_patterns):\n",
    "    X, y = list(), list()\n",
    "    for _ in range(n_patterns):\n",
    "        frames, right = build_frames(size)\n",
    "        X.append(frames)\n",
    "        y.append(right)\n",
    "    # resize as [sampes, timesteps, width, height, channels]\n",
    "    X = array(X).reshape(n_patterns, size, size, size, 1)\n",
    "    y = array(y).reshape(n_patterns, 1)\n",
    "    return X, y"
   ]
  },
  {
   "cell_type": "code",
   "execution_count": 5,
   "metadata": {},
   "outputs": [],
   "source": [
    "# configure problem\n",
    "size = 50"
   ]
  },
  {
   "cell_type": "code",
   "execution_count": 6,
   "metadata": {},
   "outputs": [
    {
     "name": "stderr",
     "output_type": "stream",
     "text": [
      "WARNING: Logging before flag parsing goes to stderr.\n",
      "W1026 15:08:58.541911 21044 deprecation_wrapper.py:119] From C:\\Users\\Lenovo\\Anaconda3\\lib\\site-packages\\keras\\backend\\tensorflow_backend.py:74: The name tf.get_default_graph is deprecated. Please use tf.compat.v1.get_default_graph instead.\n",
      "\n",
      "W1026 15:08:58.569833 21044 deprecation_wrapper.py:119] From C:\\Users\\Lenovo\\Anaconda3\\lib\\site-packages\\keras\\backend\\tensorflow_backend.py:529: The name tf.placeholder is deprecated. Please use tf.compat.v1.placeholder instead.\n",
      "\n",
      "W1026 15:08:58.574821 21044 deprecation_wrapper.py:119] From C:\\Users\\Lenovo\\Anaconda3\\lib\\site-packages\\keras\\backend\\tensorflow_backend.py:4420: The name tf.random_uniform is deprecated. Please use tf.random.uniform instead.\n",
      "\n",
      "W1026 15:08:58.614714 21044 deprecation_wrapper.py:119] From C:\\Users\\Lenovo\\Anaconda3\\lib\\site-packages\\keras\\backend\\tensorflow_backend.py:4255: The name tf.nn.max_pool is deprecated. Please use tf.nn.max_pool2d instead.\n",
      "\n",
      "W1026 15:08:58.889594 21044 deprecation_wrapper.py:119] From C:\\Users\\Lenovo\\Anaconda3\\lib\\site-packages\\keras\\optimizers.py:793: The name tf.train.Optimizer is deprecated. Please use tf.compat.v1.train.Optimizer instead.\n",
      "\n",
      "W1026 15:08:58.915524 21044 deprecation_wrapper.py:119] From C:\\Users\\Lenovo\\Anaconda3\\lib\\site-packages\\keras\\backend\\tensorflow_backend.py:3645: The name tf.log is deprecated. Please use tf.math.log instead.\n",
      "\n",
      "W1026 15:08:58.923503 21044 deprecation.py:323] From C:\\Users\\Lenovo\\Anaconda3\\lib\\site-packages\\tensorflow\\python\\ops\\nn_impl.py:180: add_dispatch_support.<locals>.wrapper (from tensorflow.python.ops.array_ops) is deprecated and will be removed in a future version.\n",
      "Instructions for updating:\n",
      "Use tf.where in 2.0, which has the same broadcast rule as np.where\n"
     ]
    },
    {
     "name": "stdout",
     "output_type": "stream",
     "text": [
      "Model: \"sequential_1\"\n",
      "_________________________________________________________________\n",
      "Layer (type)                 Output Shape              Param #   \n",
      "=================================================================\n",
      "time_distributed_1 (TimeDist (None, None, 49, 49, 2)   10        \n",
      "_________________________________________________________________\n",
      "time_distributed_2 (TimeDist (None, None, 24, 24, 2)   0         \n",
      "_________________________________________________________________\n",
      "time_distributed_3 (TimeDist (None, None, 1152)        0         \n",
      "_________________________________________________________________\n",
      "lstm_1 (LSTM)                (None, 50)                240600    \n",
      "_________________________________________________________________\n",
      "dense_1 (Dense)              (None, 1)                 51        \n",
      "=================================================================\n",
      "Total params: 240,661\n",
      "Trainable params: 240,661\n",
      "Non-trainable params: 0\n",
      "_________________________________________________________________\n"
     ]
    }
   ],
   "source": [
    "# define the model\n",
    "model = Sequential()\n",
    "model.add(TimeDistributed(Conv2D(2, (2, 2), activation='relu'), input_shape=(None, size, size, 1)))\n",
    "model.add(TimeDistributed(MaxPooling2D(pool_size=(2, 2))))\n",
    "model.add(TimeDistributed(Flatten()))\n",
    "model.add(LSTM(50))\n",
    "model.add(Dense(1, activation='sigmoid'))\n",
    "model.compile(loss='binary_crossentropy', optimizer='adam', metrics=['acc'])\n",
    "model.summary()"
   ]
  },
  {
   "cell_type": "code",
   "execution_count": 7,
   "metadata": {},
   "outputs": [
    {
     "name": "stderr",
     "output_type": "stream",
     "text": [
      "W1026 15:10:42.776853 21044 deprecation_wrapper.py:119] From C:\\Users\\Lenovo\\Anaconda3\\lib\\site-packages\\keras\\backend\\tensorflow_backend.py:1021: The name tf.assign_add is deprecated. Please use tf.compat.v1.assign_add instead.\n",
      "\n"
     ]
    },
    {
     "name": "stdout",
     "output_type": "stream",
     "text": [
      "Epoch 1/1\n",
      "5000/5000 [==============================] - 38s 8ms/step - loss: 0.1616 - acc: 0.9196\n"
     ]
    },
    {
     "data": {
      "text/plain": [
       "<keras.callbacks.History at 0x2ae036dfeb8>"
      ]
     },
     "execution_count": 7,
     "metadata": {},
     "output_type": "execute_result"
    }
   ],
   "source": [
    "# fit model\n",
    "X, y = generate_examples(size, 5000)\n",
    "model.fit(X, y, batch_size=32, epochs=1)"
   ]
  },
  {
   "cell_type": "code",
   "execution_count": 8,
   "metadata": {},
   "outputs": [
    {
     "name": "stdout",
     "output_type": "stream",
     "text": [
      "loss: 0.049528, acc: 99.000000\n"
     ]
    }
   ],
   "source": [
    "# evaluate model\n",
    "X, y = generate_examples(size, 100)\n",
    "loss, acc = model.evaluate(X, y, verbose=0)\n",
    "print('loss: %f, acc: %f' % (loss, acc*100))"
   ]
  },
  {
   "cell_type": "code",
   "execution_count": 9,
   "metadata": {},
   "outputs": [],
   "source": [
    "# prediction on new data\n",
    "X, y = generate_examples(size, 1)\n",
    "yhat = model.predict_classes(X, verbose=0)\n",
    "expected = 'Right' if y[0]==1 else 'Left'\n",
    "predicted = 'Right' if yhat[0]==1 else 'Left'"
   ]
  },
  {
   "cell_type": "code",
   "execution_count": 10,
   "metadata": {},
   "outputs": [
    {
     "data": {
      "text/plain": [
       "'Right'"
      ]
     },
     "execution_count": 10,
     "metadata": {},
     "output_type": "execute_result"
    }
   ],
   "source": [
    "expected"
   ]
  },
  {
   "cell_type": "code",
   "execution_count": 11,
   "metadata": {},
   "outputs": [
    {
     "data": {
      "text/plain": [
       "'Right'"
      ]
     },
     "execution_count": 11,
     "metadata": {},
     "output_type": "execute_result"
    }
   ],
   "source": [
    "predicted"
   ]
  },
  {
   "cell_type": "code",
   "execution_count": null,
   "metadata": {},
   "outputs": [],
   "source": []
  }
 ],
 "metadata": {
  "kernelspec": {
   "display_name": "Python 3",
   "language": "python",
   "name": "python3"
  },
  "language_info": {
   "codemirror_mode": {
    "name": "ipython",
    "version": 3
   },
   "file_extension": ".py",
   "mimetype": "text/x-python",
   "name": "python",
   "nbconvert_exporter": "python",
   "pygments_lexer": "ipython3",
   "version": "3.7.3"
  }
 },
 "nbformat": 4,
 "nbformat_minor": 2
}
