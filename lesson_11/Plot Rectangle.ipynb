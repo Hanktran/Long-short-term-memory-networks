{
 "cells": [
  {
   "cell_type": "code",
   "execution_count": 1,
   "metadata": {},
   "outputs": [],
   "source": [
    "from random import random\n",
    "from matplotlib import pyplot\n",
    "from matplotlib.patches import PathPatch\n",
    "from matplotlib.path import Path"
   ]
  },
  {
   "cell_type": "code",
   "execution_count": 2,
   "metadata": {},
   "outputs": [],
   "source": [
    "# generate a rectangle with random width and height\n",
    "def random_rectangle():\n",
    "    width, height = random(), random()\n",
    "    points = list()\n",
    "    # bottom left\n",
    "    points.append([0.0, 0.0])\n",
    "    # bottom right\n",
    "    points.append([width, 0.0])\n",
    "    # top right\n",
    "    points.append([width, height])\n",
    "    # top left\n",
    "    points.append([0.0, height])\n",
    "    return points"
   ]
  },
  {
   "cell_type": "code",
   "execution_count": 3,
   "metadata": {},
   "outputs": [],
   "source": [
    "# plot a rectangle\n",
    "def plot_rectangle(rect):\n",
    "    # close the rectangle path\n",
    "    rect.append(rect[0])\n",
    "    # define path\n",
    "    codes = [Path.MOVETO, Path.LINETO, Path.LINETO, Path.LINETO, Path.CLOSEPOLY]\n",
    "    path = Path(rect, codes)\n",
    "    axis = pyplot.gca()\n",
    "    patch = PathPatch(path)\n",
    "    # add shape to plot\n",
    "    axis.add_patch(patch)\n",
    "    axis.set_xlim(-0.1, 1.1)\n",
    "    axis.set_ylim(-0.1, 1.1)\n",
    "    pyplot.show()"
   ]
  },
  {
   "cell_type": "code",
   "execution_count": 4,
   "metadata": {},
   "outputs": [
    {
     "data": {
      "image/png": "[encoded data removed]",
      "text/plain": [
       "<Figure size 432x288 with 1 Axes>"
      ]
     },
     "metadata": {
      "needs_background": "light"
     },
     "output_type": "display_data"
    }
   ],
   "source": [
    "rect = random_rectangle()\n",
    "plot_rectangle(rect)"
   ]
  },
  {
   "cell_type": "code",
   "execution_count": null,
   "metadata": {},
   "outputs": [],
   "source": []
  }
 ],
 "metadata": {
  "kernelspec": {
   "display_name": "Python 3",
   "language": "python",
   "name": "python3"
  },
  "language_info": {
   "codemirror_mode": {
    "name": "ipython",
    "version": 3
   },
   "file_extension": ".py",
   "mimetype": "text/x-python",
   "name": "python",
   "nbconvert_exporter": "python",
   "pygments_lexer": "ipython3",
   "version": "3.7.3"
  }
 },
 "nbformat": 4,
 "nbformat_minor": 2
}
