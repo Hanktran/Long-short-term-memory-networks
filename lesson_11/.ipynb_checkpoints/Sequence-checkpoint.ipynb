{
 "cells": [
  {
   "cell_type": "code",
   "execution_count": 1,
   "metadata": {},
   "outputs": [],
   "source": [
    "from random import random\n",
    "from numpy import array"
   ]
  },
  {
   "cell_type": "code",
   "execution_count": 2,
   "metadata": {},
   "outputs": [],
   "source": [
    "# generate a rectangle with random width and height\n",
    "def random_rectangle():\n",
    "    width, height = random(), random()\n",
    "    points = list()\n",
    "    # bottom left\n",
    "    points.append([0.0, 0.0])\n",
    "    # bottom right\n",
    "    points.append([width, 0.0])\n",
    "    # top right\n",
    "    points.append([width, height])\n",
    "    # top left\n",
    "    points.append([0.0, height])\n",
    "    return points"
   ]
  },
  {
   "cell_type": "code",
   "execution_count": 5,
   "metadata": {},
   "outputs": [],
   "source": [
    "# generate input and output sequences for one random rectangle\n",
    "def get_samples():\n",
    "    # generate rectangle\n",
    "    rect = random_rectangle()\n",
    "    X, y = list(), list()\n",
    "    # create input output pairs for each coordinate\n",
    "    for i in range(1, len(rect)):\n",
    "        X.append(rect[i-1])\n",
    "        y.append(rect[i])\n",
    "    # convert input sequence shape to have 1 time step and 2 features\n",
    "    X, y = array(X), array(y)\n",
    "    X = X.reshape((X.shape[0], 1, 2))\n",
    "    return X, y"
   ]
  },
  {
   "cell_type": "code",
   "execution_count": 6,
   "metadata": {},
   "outputs": [],
   "source": [
    "X, y = get_samples()"
   ]
  },
  {
   "cell_type": "code",
   "execution_count": 7,
   "metadata": {},
   "outputs": [
    {
     "data": {
      "text/plain": [
       "array([[[0.        , 0.        ]],\n",
       "\n",
       "       [[0.40069439, 0.        ]],\n",
       "\n",
       "       [[0.40069439, 0.10652521]]])"
      ]
     },
     "execution_count": 7,
     "metadata": {},
     "output_type": "execute_result"
    }
   ],
   "source": [
    "X"
   ]
  },
  {
   "cell_type": "code",
   "execution_count": 8,
   "metadata": {},
   "outputs": [
    {
     "name": "stdout",
     "output_type": "stream",
     "text": [
      "[0. 0.] => [0.40069439 0.        ]\n",
      "[0.40069439 0.        ] => [0.40069439 0.10652521]\n",
      "[0.40069439 0.10652521] => [0.         0.10652521]\n"
     ]
    }
   ],
   "source": [
    "for i in range(X.shape[0]):\n",
    "    print(X[i][0], '=>', y[i])"
   ]
  },
  {
   "cell_type": "code",
   "execution_count": null,
   "metadata": {},
   "outputs": [],
   "source": []
  }
 ],
 "metadata": {
  "kernelspec": {
   "display_name": "Python 3",
   "language": "python",
   "name": "python3"
  },
  "language_info": {
   "codemirror_mode": {
    "name": "ipython",
    "version": 3
   },
   "file_extension": ".py",
   "mimetype": "text/x-python",
   "name": "python",
   "nbconvert_exporter": "python",
   "pygments_lexer": "ipython3",
   "version": "3.7.3"
  }
 },
 "nbformat": 4,
 "nbformat_minor": 2
}
