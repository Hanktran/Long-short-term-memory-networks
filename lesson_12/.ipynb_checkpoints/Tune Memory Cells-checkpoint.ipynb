{
 "cells": [
  {
   "cell_type": "code",
   "execution_count": 1,
   "metadata": {},
   "outputs": [
    {
     "name": "stderr",
     "output_type": "stream",
     "text": [
      "Using TensorFlow backend.\n"
     ]
    }
   ],
   "source": [
    "from keras.models import Sequential\n",
    "from keras.layers import Dense\n",
    "from keras.layers import LSTM\n",
    "from matplotlib import pyplot\n",
    "from pandas import DataFrame\n",
    "from numpy import array"
   ]
  },
  {
   "cell_type": "code",
   "execution_count": 2,
   "metadata": {},
   "outputs": [],
   "source": [
    "# return training data\n",
    "def get_train():\n",
    "    seq = [[0.0, 0.1], [0.1, 0.2], [0.2, 0.3], [0.3, 0.4], [0.4, 0.5]]\n",
    "    seq = array(seq)\n",
    "    X, y = seq[:,0], seq[:,1]\n",
    "    X = X.reshape((5, 1, 1))\n",
    "    return X, y"
   ]
  },
  {
   "cell_type": "code",
   "execution_count": 3,
   "metadata": {},
   "outputs": [],
   "source": [
    "# return validation data\n",
    "def get_val():\n",
    "    seq = [[0.5, 0.6], [0.6, 0.7], [0.7, 0.8], [0.8, 0.9], [0.9, 1.0]]\n",
    "    seq = array(seq)\n",
    "    X, y = seq[:,0], seq[:,1]\n",
    "    X = X.reshape((len(X), 1, 1))\n",
    "    return X, y"
   ]
  },
  {
   "cell_type": "code",
   "execution_count": 4,
   "metadata": {},
   "outputs": [],
   "source": [
    "# fit an LSTM model\n",
    "def fit_model(n_cells):\n",
    "    # define model\n",
    "    model = Sequential()\n",
    "    model.add(LSTM(n_cells, input_shape=(1, 1)))\n",
    "    model.add(Dense(1, activation='linear'))\n",
    "    # compile model\n",
    "    model.compile(loss='mse', optimizer='adam')\n",
    "    # fit model\n",
    "    X, y = get_train()\n",
    "    model.fit(X, y, epochs=500, shuffle=False, verbose=0)\n",
    "    # evaluate model\n",
    "    valX, valY = get_val()\n",
    "    loss = model.evaluate(valX, valY, verbose=0)\n",
    "    return loss"
   ]
  },
  {
   "cell_type": "code",
   "execution_count": 5,
   "metadata": {},
   "outputs": [
    {
     "name": "stderr",
     "output_type": "stream",
     "text": [
      "WARNING: Logging before flag parsing goes to stderr.\n",
      "W1123 15:25:40.240531  6836 deprecation_wrapper.py:119] From C:\\Users\\Lenovo\\Anaconda3\\lib\\site-packages\\keras\\backend\\tensorflow_backend.py:74: The name tf.get_default_graph is deprecated. Please use tf.compat.v1.get_default_graph instead.\n",
      "\n",
      "W1123 15:25:40.267704  6836 deprecation_wrapper.py:119] From C:\\Users\\Lenovo\\Anaconda3\\lib\\site-packages\\keras\\backend\\tensorflow_backend.py:529: The name tf.placeholder is deprecated. Please use tf.compat.v1.placeholder instead.\n",
      "\n",
      "W1123 15:25:40.271971  6836 deprecation_wrapper.py:119] From C:\\Users\\Lenovo\\Anaconda3\\lib\\site-packages\\keras\\backend\\tensorflow_backend.py:4420: The name tf.random_uniform is deprecated. Please use tf.random.uniform instead.\n",
      "\n",
      "W1123 15:25:40.701332  6836 deprecation_wrapper.py:119] From C:\\Users\\Lenovo\\Anaconda3\\lib\\site-packages\\keras\\optimizers.py:793: The name tf.train.Optimizer is deprecated. Please use tf.compat.v1.train.Optimizer instead.\n",
      "\n",
      "W1123 15:25:41.162591  6836 deprecation.py:323] From C:\\Users\\Lenovo\\Anaconda3\\lib\\site-packages\\tensorflow\\python\\ops\\math_grad.py:1250: add_dispatch_support.<locals>.wrapper (from tensorflow.python.ops.array_ops) is deprecated and will be removed in a future version.\n",
      "Instructions for updating:\n",
      "Use tf.where in 2.0, which has the same broadcast rule as np.where\n",
      "W1123 15:25:42.362271  6836 deprecation_wrapper.py:119] From C:\\Users\\Lenovo\\Anaconda3\\lib\\site-packages\\keras\\backend\\tensorflow_backend.py:1021: The name tf.assign_add is deprecated. Please use tf.compat.v1.assign_add instead.\n",
      "\n",
      "W1123 15:25:42.622599  6836 deprecation_wrapper.py:119] From C:\\Users\\Lenovo\\Anaconda3\\lib\\site-packages\\keras\\backend\\tensorflow_backend.py:1008: The name tf.assign is deprecated. Please use tf.compat.v1.assign instead.\n",
      "\n"
     ]
    },
    {
     "name": "stdout",
     "output_type": "stream",
     "text": [
      "> 1/5 param=1.000000, loss=0.115463\n",
      "> 2/5 param=1.000000, loss=0.036851\n",
      "> 3/5 param=1.000000, loss=0.167321\n",
      "> 4/5 param=1.000000, loss=0.328401\n",
      "> 5/5 param=1.000000, loss=0.152070\n",
      "> 1/5 param=5.000000, loss=0.055990\n",
      "> 2/5 param=5.000000, loss=0.112376\n",
      "> 3/5 param=5.000000, loss=0.060618\n",
      "> 4/5 param=5.000000, loss=0.067802\n",
      "> 5/5 param=5.000000, loss=0.062518\n",
      "> 1/5 param=10.000000, loss=0.054811\n",
      "> 2/5 param=10.000000, loss=0.054020\n",
      "> 3/5 param=10.000000, loss=0.017644\n",
      "> 4/5 param=10.000000, loss=0.001375\n",
      "> 5/5 param=10.000000, loss=0.010871\n",
      "              1         5        10\n",
      "count  5.000000  5.000000  5.000000\n",
      "mean   0.160021  0.071861  0.027744\n",
      "std    0.106800  0.023041  0.025025\n",
      "min    0.036851  0.055990  0.001375\n",
      "25%    0.115463  0.060618  0.010871\n",
      "50%    0.152070  0.062518  0.017644\n",
      "75%    0.167321  0.067802  0.054020\n",
      "max    0.328401  0.112376  0.054811\n"
     ]
    },
    {
     "data": {
      "image/png": "[encoded data removed]",
      "text/plain": [
       "<Figure size 432x288 with 1 Axes>"
      ]
     },
     "metadata": {
      "needs_background": "light"
     },
     "output_type": "display_data"
    }
   ],
   "source": [
    "# define scope of search\n",
    "params = [1, 5, 10]\n",
    "n_repeats = 5\n",
    "# grid search parameter values\n",
    "scores = DataFrame()\n",
    "for value in params:\n",
    "    # repeat each experiment multiple times\n",
    "    loss_values = list()\n",
    "    for i in range(n_repeats):\n",
    "        loss = fit_model(value)\n",
    "        loss_values.append(loss)\n",
    "        print('> %d/%d param=%f, loss=%f' % (i+1, n_repeats, value, loss))\n",
    "    # store results for this parameter\n",
    "    scores[str(value)] = loss_values\n",
    "    \n",
    "# summary statistics of results\n",
    "print(scores.describe())\n",
    "# box and whisker plot of results\n",
    "scores.boxplot()\n",
    "pyplot.show()"
   ]
  },
  {
   "cell_type": "code",
   "execution_count": null,
   "metadata": {},
   "outputs": [],
   "source": []
  }
 ],
 "metadata": {
  "kernelspec": {
   "display_name": "Python 3",
   "language": "python",
   "name": "python3"
  },
  "language_info": {
   "codemirror_mode": {
    "name": "ipython",
    "version": 3
   },
   "file_extension": ".py",
   "mimetype": "text/x-python",
   "name": "python",
   "nbconvert_exporter": "python",
   "pygments_lexer": "ipython3",
   "version": "3.7.3"
  }
 },
 "nbformat": 4,
 "nbformat_minor": 2
}
